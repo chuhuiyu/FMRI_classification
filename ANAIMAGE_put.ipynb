{
 "cells": [
  {
   "cell_type": "code",
   "execution_count": 7,
   "metadata": {},
   "outputs": [
    {
     "name": "stdout",
     "output_type": "stream",
     "text": [
      "copy D:\\HRP_NC_copy\\HPR\\12227\\structurals\\12227_anat.nii D:\\strucdata\\HRP\\12227_anat.nii\n",
      "copy D:\\HRP_NC_copy\\HPR\\12229\\structurals\\12229_anat.nii D:\\strucdata\\HRP\\12229_anat.nii\n",
      "copy D:\\HRP_NC_copy\\HPR\\12241\\structurals\\12241_anat.nii D:\\strucdata\\HRP\\12241_anat.nii\n",
      "copy D:\\HRP_NC_copy\\HPR\\12249\\structurals\\12249_anat.nii D:\\strucdata\\HRP\\12249_anat.nii\n",
      "copy D:\\HRP_NC_copy\\HPR\\12251\\structurals\\12251_anat.nii D:\\strucdata\\HRP\\12251_anat.nii\n",
      "copy D:\\HRP_NC_copy\\HPR\\12252\\structurals\\12252_anat.nii D:\\strucdata\\HRP\\12252_anat.nii\n",
      "copy D:\\HRP_NC_copy\\HPR\\12253\\structurals\\12253_anat.nii D:\\strucdata\\HRP\\12253_anat.nii\n",
      "copy D:\\HRP_NC_copy\\HPR\\12254\\structurals\\12254_anat.nii D:\\strucdata\\HRP\\12254_anat.nii\n",
      "copy D:\\HRP_NC_copy\\HPR\\12255\\structurals\\12255_anat.nii D:\\strucdata\\HRP\\12255_anat.nii\n",
      "copy D:\\HRP_NC_copy\\HPR\\12258\\structurals\\12258_anat.nii D:\\strucdata\\HRP\\12258_anat.nii\n",
      "copy D:\\HRP_NC_copy\\HPR\\12259\\structurals\\12259_anat.nii D:\\strucdata\\HRP\\12259_anat.nii\n",
      "copy D:\\HRP_NC_copy\\HPR\\12260\\structurals\\12260_anat.nii D:\\strucdata\\HRP\\12260_anat.nii\n",
      "copy D:\\HRP_NC_copy\\HPR\\12263\\structurals\\12263_anat.nii D:\\strucdata\\HRP\\12263_anat.nii\n",
      "copy D:\\HRP_NC_copy\\HPR\\12299\\structurals\\12299_anat.nii D:\\strucdata\\HRP\\12299_anat.nii\n"
     ]
    }
   ],
   "source": [
    "import os\n",
    "\n",
    "rootp = 'D:\\\\HRP_NC_copy'\n",
    "des = 'D:\\\\strucdata'\n",
    "des1 = os.path.join(des,'HRP')\n",
    "des2 = os.path.join(des,'HC')\n",
    "\n",
    "dir1 = os.listdir(os.path.join(rootp,'HPR'))\n",
    "dir1 = dir1[:-1]\n",
    "\n",
    "dir2 = os.listdir(os.path.join(rootp,'NC'))\n",
    "dir2 = dir2[:-1]\n",
    "\n",
    "for no in dir1:\n",
    "    anafilepath = os.path.join(rootp,'HPR',no,'structurals')\n",
    "    anafilename = no+'_anat.nii'\n",
    "    commd = 'copy '+anafilepath+'\\\\'+anafilename+' '+des1+'\\\\'+anafilename\n",
    "    print(commd)\n",
    "    os.system(commd)\n"
   ]
  },
  {
   "cell_type": "code",
   "execution_count": 10,
   "metadata": {},
   "outputs": [
    {
     "name": "stdout",
     "output_type": "stream",
     "text": [
      "['12224', '12225', '12226', '12227', '12229', '12230', '12235', '12236', '12237', '12238', '12240', '12246', '12247', '12250']\n",
      "copy D:\\HRP_NC_copy\\NC\\12224\\structurals\\12224_anat.nii D:\\strucdata\\HC\\12224_anat.nii\n",
      "copy D:\\HRP_NC_copy\\NC\\12225\\structurals\\12225_anat.nii D:\\strucdata\\HC\\12225_anat.nii\n",
      "copy D:\\HRP_NC_copy\\NC\\12226\\structurals\\12226_anat.nii D:\\strucdata\\HC\\12226_anat.nii\n",
      "copy D:\\HRP_NC_copy\\NC\\12227\\structurals\\12227_anat.nii D:\\strucdata\\HC\\12227_anat.nii\n",
      "copy D:\\HRP_NC_copy\\NC\\12229\\structurals\\12229_anat.nii D:\\strucdata\\HC\\12229_anat.nii\n",
      "copy D:\\HRP_NC_copy\\NC\\12230\\structurals\\12230_anat.nii D:\\strucdata\\HC\\12230_anat.nii\n",
      "copy D:\\HRP_NC_copy\\NC\\12235\\structurals\\12235_anat.nii D:\\strucdata\\HC\\12235_anat.nii\n",
      "copy D:\\HRP_NC_copy\\NC\\12236\\structurals\\12236_anat.nii D:\\strucdata\\HC\\12236_anat.nii\n",
      "copy D:\\HRP_NC_copy\\NC\\12237\\structurals\\12237_anat.nii D:\\strucdata\\HC\\12237_anat.nii\n",
      "copy D:\\HRP_NC_copy\\NC\\12238\\structurals\\12238_anat.nii D:\\strucdata\\HC\\12238_anat.nii\n",
      "copy D:\\HRP_NC_copy\\NC\\12240\\structurals\\12240_anat.nii D:\\strucdata\\HC\\12240_anat.nii\n",
      "copy D:\\HRP_NC_copy\\NC\\12246\\structurals\\12246_anat.nii D:\\strucdata\\HC\\12246_anat.nii\n",
      "copy D:\\HRP_NC_copy\\NC\\12247\\structurals\\12247_anat.nii D:\\strucdata\\HC\\12247_anat.nii\n",
      "copy D:\\HRP_NC_copy\\NC\\12250\\structurals\\12250_anat.nii D:\\strucdata\\HC\\12250_anat.nii\n"
     ]
    }
   ],
   "source": [
    "dir2 = dir2[:14]\n",
    "print(dir2)\n",
    "\n",
    "for no in dir2:\n",
    "    anafilepath = os.path.join(rootp,'NC',no,'structurals')\n",
    "    anafilename = no+'_anat.nii'\n",
    "    commd = 'copy '+anafilepath+'\\\\'+anafilename+' '+des2+'\\\\'+anafilename\n",
    "    print(commd)\n",
    "    os.system(commd)"
   ]
  },
  {
   "cell_type": "code",
   "execution_count": null,
   "metadata": {},
   "outputs": [],
   "source": []
  }
 ],
 "metadata": {
  "kernelspec": {
   "display_name": "Python 3",
   "language": "python",
   "name": "python3"
  },
  "language_info": {
   "codemirror_mode": {
    "name": "ipython",
    "version": 3
   },
   "file_extension": ".py",
   "mimetype": "text/x-python",
   "name": "python",
   "nbconvert_exporter": "python",
   "pygments_lexer": "ipython3",
   "version": "3.6.10"
  }
 },
 "nbformat": 4,
 "nbformat_minor": 2
}
